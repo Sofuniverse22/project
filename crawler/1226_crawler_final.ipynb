{
 "cells": [
  {
   "cell_type": "code",
   "execution_count": 54,
   "metadata": {},
   "outputs": [],
   "source": [
    "import numpy as np\n",
    "import urllib.request\n",
    "from urllib.request import urlopen\n",
    "from bs4 import BeautifulSoup\n",
    "import pandas as pd\n",
    "from glob import glob\n",
    "import sys \n",
    "from datetime import datetime\n",
    "from selenium import webdriver\n"
   ]
  },
  {
   "cell_type": "code",
   "execution_count": 55,
   "metadata": {},
   "outputs": [
    {
     "data": {
      "text/html": [
       "<div>\n",
       "<style scoped>\n",
       "    .dataframe tbody tr th:only-of-type {\n",
       "        vertical-align: middle;\n",
       "    }\n",
       "\n",
       "    .dataframe tbody tr th {\n",
       "        vertical-align: top;\n",
       "    }\n",
       "\n",
       "    .dataframe thead th {\n",
       "        text-align: right;\n",
       "    }\n",
       "</style>\n",
       "<table border=\"1\" class=\"dataframe\">\n",
       "  <thead>\n",
       "    <tr style=\"text-align: right;\">\n",
       "      <th></th>\n",
       "      <th>no</th>\n",
       "      <th>Coin_Name</th>\n",
       "      <th>Coin_Abb</th>\n",
       "      <th>URL</th>\n",
       "    </tr>\n",
       "  </thead>\n",
       "  <tbody>\n",
       "    <tr>\n",
       "      <th>0</th>\n",
       "      <td>1</td>\n",
       "      <td>Bitcoin</td>\n",
       "      <td>BTC</td>\n",
       "      <td>https://coinmarketcap.com/currencies/bitcoin/</td>\n",
       "    </tr>\n",
       "    <tr>\n",
       "      <th>1</th>\n",
       "      <td>2</td>\n",
       "      <td>XRP</td>\n",
       "      <td>XRP</td>\n",
       "      <td>https://coinmarketcap.com/currencies/ripple/</td>\n",
       "    </tr>\n",
       "    <tr>\n",
       "      <th>2</th>\n",
       "      <td>3</td>\n",
       "      <td>Ethereum</td>\n",
       "      <td>ETH</td>\n",
       "      <td>https://coinmarketcap.com/currencies/ethereum/</td>\n",
       "    </tr>\n",
       "    <tr>\n",
       "      <th>3</th>\n",
       "      <td>4</td>\n",
       "      <td>Bitcoin Cash</td>\n",
       "      <td>BCH</td>\n",
       "      <td>https://coinmarketcap.com/currencies/bitcoin-c...</td>\n",
       "    </tr>\n",
       "    <tr>\n",
       "      <th>4</th>\n",
       "      <td>5</td>\n",
       "      <td>EOS</td>\n",
       "      <td>EOS</td>\n",
       "      <td>https://coinmarketcap.com/currencies/eos/</td>\n",
       "    </tr>\n",
       "  </tbody>\n",
       "</table>\n",
       "</div>"
      ],
      "text/plain": [
       "   no     Coin_Name Coin_Abb  \\\n",
       "0   1       Bitcoin      BTC   \n",
       "1   2           XRP      XRP   \n",
       "2   3      Ethereum      ETH   \n",
       "3   4  Bitcoin Cash      BCH   \n",
       "4   5           EOS      EOS   \n",
       "\n",
       "                                                 URL  \n",
       "0      https://coinmarketcap.com/currencies/bitcoin/  \n",
       "1       https://coinmarketcap.com/currencies/ripple/  \n",
       "2     https://coinmarketcap.com/currencies/ethereum/  \n",
       "3  https://coinmarketcap.com/currencies/bitcoin-c...  \n",
       "4          https://coinmarketcap.com/currencies/eos/  "
      ]
     },
     "execution_count": 55,
     "metadata": {},
     "output_type": "execute_result"
    }
   ],
   "source": [
    "df =pd.read_csv(\"1227_coinurl_final2.csv\")\n",
    "df.head()"
   ]
  },
  {
   "cell_type": "code",
   "execution_count": 56,
   "metadata": {},
   "outputs": [
    {
     "data": {
      "text/plain": [
       "'https://coinmarketcap.com/currencies/bitcoin/historical-data/?start=20130428&&end=20181226'"
      ]
     },
     "execution_count": 56,
     "metadata": {},
     "output_type": "execute_result"
    }
   ],
   "source": [
    "url_base =df['URL']\n",
    "url_add = 'historical-data/?start=20130428&&end=20181226'#coinmarketcap의 모든 코인 스타팅 값 130428\n",
    "url = url_base+url_add\n",
    "url[0]"
   ]
  },
  {
   "cell_type": "code",
   "execution_count": 38,
   "metadata": {},
   "outputs": [
    {
     "data": {
      "text/plain": [
       "'Bitcoin'"
      ]
     },
     "execution_count": 38,
     "metadata": {},
     "output_type": "execute_result"
    }
   ],
   "source": [
    "df['Coin_Name'][0]"
   ]
  },
  {
   "cell_type": "code",
   "execution_count": 4,
   "metadata": {},
   "outputs": [
    {
     "name": "stdout",
     "output_type": "stream",
     "text": [
      "b'{\\n  \"user-agent\": \"Mozilla/5.0 (Macintosh; Intel Mac OS X 10_9_3) AppleWebKit/537.36 (KHTML, like Gecko) Chrome/35.0.1916.47 Safari/537.36\"\\n}\\n'\n"
     ]
    }
   ],
   "source": [
    "import requests \n",
    "url2 = 'https://httpbin.org/user-agent'\n",
    "user_agent = 'Mozilla/5.0 (Macintosh; Intel Mac OS X 10_9_3) AppleWebKit/537.36 (KHTML, like Gecko) Chrome/35.0.1916.47 Safari/537.36'\n",
    "headers = {'User-Agent': user_agent}\n",
    "response = requests.get(url2,headers=headers)\n",
    "html = response.content\n",
    "print(response.content)\n",
    "\n",
    "USER_AGENTS = [\n",
    "    ('Mozilla/5.0 (X11; Linux x86_64) '\n",
    "     'AppleWebKit/537.36 (KHTML, like Gecko) '\n",
    "     'Chrome/57.0.2987.110 '\n",
    "     'Safari/537.36'),  # chrome\n",
    "    ('Mozilla/5.0 (X11; Linux x86_64) '\n",
    "     'AppleWebKit/537.36 (KHTML, like Gecko) '\n",
    "     'Chrome/61.0.3163.79 '\n",
    "     'Safari/537.36'),  # chrome\n",
    "    ('Mozilla/5.0 (X11; Ubuntu; Linux x86_64; rv:55.0) '\n",
    "     'Gecko/20100101 '\n",
    "     'Firefox/55.0'),  # firefox\n",
    "    ('Mozilla/5.0 (X11; Linux x86_64) '\n",
    "     'AppleWebKit/537.36 (KHTML, like Gecko) '\n",
    "     'Chrome/61.0.3163.91 '\n",
    "     'Safari/537.36'),  # chrome\n",
    "    ('Mozilla/5.0 (X11; Linux x86_64) '\n",
    "     'AppleWebKit/537.36 (KHTML, like Gecko) '\n",
    "     'Chrome/62.0.3202.89 '\n",
    "     'Safari/537.36'),  # chrome\n",
    "    ('Mozilla/5.0 (X11; Linux x86_64) '\n",
    "     'AppleWebKit/537.36 (KHTML, like Gecko) '\n",
    "     'Chrome/63.0.3239.108 '\n",
    "     'Safari/537.36'),  # chrome\n",
    "]"
   ]
  },
  {
   "cell_type": "code",
   "execution_count": null,
   "metadata": {},
   "outputs": [
    {
     "data": {
      "application/vnd.jupyter.widget-view+json": {
       "model_id": "335028f465fb4c08b707d4e3240f954e",
       "version_major": 2,
       "version_minor": 0
      },
      "text/plain": [
       "HBox(children=(IntProgress(value=0, max=1000), HTML(value='')))"
      ]
     },
     "metadata": {},
     "output_type": "display_data"
    }
   ],
   "source": [
    "import time\n",
    "import requests \n",
    "from tqdm import tqdm_notebook\n",
    "\n",
    "data = []\n",
    "i = 0;\n",
    "\n",
    "\n",
    "for n in tqdm_notebook(df.index):\n",
    "    \n",
    "    \n",
    "    html = urlopen(url[n])\n",
    "    soup_tmp = BeautifulSoup(html, 'html.parser')\n",
    "    priceDiv = soup_tmp.find('div', attrs={'class':'table-responsive'})\n",
    "    rows = priceDiv.find_all('tr')\n",
    "    coinName = soup_tmp.find('h2').get_text()\n",
    "    \n",
    "    \n",
    "\n",
    "\n",
    "    for row in rows:\n",
    "        tmp = []\n",
    "        tds = row.findChildren()\n",
    "\n",
    "        for td in tds:\n",
    "            tmp.append(td.text)\n",
    "\n",
    "        if(i > 0):\n",
    "            tmp[0] = tmp[0].replace(',','')\n",
    "            tmp[5] = tmp[5].replace(',','')\n",
    "            tmp[6] = tmp[6].replace(',','')\n",
    "            \n",
    "            try:\n",
    "                data.append({'no':(n+1),\n",
    "                             'date':datetime.strptime(tmp[0], '%b %d %Y'),\n",
    "                             'coinName':coinName,\n",
    "                             'open':float(tmp[1]),\n",
    "                             'high':float(tmp[2]),\n",
    "                             'low':float(tmp[3]),\n",
    "                             'close':float(tmp[4]),\n",
    "                             'volume':float(tmp[5]),\n",
    "                             'mcap':float(tmp[6])})\n",
    "                 \n",
    "            except ValueError: \n",
    "                pass\n",
    "                \n",
    "       \n",
    "            \n",
    "\n",
    "        i = i + 1;\n",
    "\n",
    "    df = pd.DataFrame(data)\n",
    "    df.to_csv('1228_coin_historical_data.csv', sep=',', encoding='UTF-8')\n",
    "    time.sleep(5)"
   ]
  },
  {
   "cell_type": "code",
   "execution_count": null,
   "metadata": {},
   "outputs": [],
   "source": []
  },
  {
   "cell_type": "code",
   "execution_count": null,
   "metadata": {},
   "outputs": [],
   "source": []
  },
  {
   "cell_type": "code",
   "execution_count": null,
   "metadata": {},
   "outputs": [],
   "source": []
  },
  {
   "cell_type": "code",
   "execution_count": null,
   "metadata": {},
   "outputs": [],
   "source": []
  },
  {
   "cell_type": "code",
   "execution_count": null,
   "metadata": {},
   "outputs": [],
   "source": []
  },
  {
   "cell_type": "code",
   "execution_count": null,
   "metadata": {},
   "outputs": [],
   "source": []
  },
  {
   "cell_type": "code",
   "execution_count": null,
   "metadata": {},
   "outputs": [],
   "source": []
  },
  {
   "cell_type": "code",
   "execution_count": null,
   "metadata": {},
   "outputs": [],
   "source": []
  },
  {
   "cell_type": "code",
   "execution_count": null,
   "metadata": {},
   "outputs": [],
   "source": []
  },
  {
   "cell_type": "code",
   "execution_count": null,
   "metadata": {},
   "outputs": [],
   "source": []
  },
  {
   "cell_type": "code",
   "execution_count": null,
   "metadata": {},
   "outputs": [],
   "source": []
  },
  {
   "cell_type": "code",
   "execution_count": null,
   "metadata": {},
   "outputs": [],
   "source": []
  },
  {
   "cell_type": "code",
   "execution_count": null,
   "metadata": {},
   "outputs": [],
   "source": []
  },
  {
   "cell_type": "code",
   "execution_count": null,
   "metadata": {},
   "outputs": [],
   "source": []
  }
 ],
 "metadata": {
  "kernelspec": {
   "display_name": "Python 3",
   "language": "python",
   "name": "python3"
  },
  "language_info": {
   "codemirror_mode": {
    "name": "ipython",
    "version": 3
   },
   "file_extension": ".py",
   "mimetype": "text/x-python",
   "name": "python",
   "nbconvert_exporter": "python",
   "pygments_lexer": "ipython3",
   "version": "3.7.0"
  }
 },
 "nbformat": 4,
 "nbformat_minor": 2
}
